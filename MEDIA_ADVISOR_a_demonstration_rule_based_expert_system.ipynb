{
  "cells": [
    {
      "cell_type": "code",
      "execution_count": null,
      "metadata": {
        "colab": {
          "base_uri": "https://localhost:8080/"
        },
        "id": "wXkbu9vQ-ocd",
        "outputId": "442696bb-7b3b-4d31-e382-9f9e7d857283"
      },
      "outputs": [
        {
          "output_type": "stream",
          "name": "stdout",
          "text": [
            "Requirement already satisfied: experta in /usr/local/lib/python3.10/dist-packages (1.9.4)\n",
            "Requirement already satisfied: frozendict==1.2 in /usr/local/lib/python3.10/dist-packages (from experta) (1.2)\n",
            "Requirement already satisfied: schema==0.6.7 in /usr/local/lib/python3.10/dist-packages (from experta) (0.6.7)\n"
          ]
        }
      ],
      "source": [
        "pip install experta"
      ]
    },
    {
      "cell_type": "code",
      "execution_count": null,
      "metadata": {
        "id": "EEimgl_t-5jW"
      },
      "outputs": [],
      "source": [
        "!sed -i 's/collections.Mapping/collections.abc.Mapping/' /usr/local/lib/python3.10/dist-packages/frozendict/__init__.py"
      ]
    },
    {
      "cell_type": "code",
      "execution_count": null,
      "metadata": {
        "id": "2gdjHPgH-dW3"
      },
      "outputs": [],
      "source": [
        "#44444444444444444444444444444444444444444445555555555555\n",
        "from experta import *\n",
        "\n",
        "class Environment(Fact):\n",
        "    \"\"\"Represents the environment a trainee interacts with.\"\"\"\n",
        "    pass\n",
        "\n",
        "class Job(Fact):\n",
        "    \"\"\"Represents the job type for the trainee.\"\"\"\n",
        "    pass\n",
        "\n",
        "class Feedback(Fact):\n",
        "    \"\"\"Indicates whether feedback is required.\"\"\"\n",
        "    pass\n",
        "\n",
        "class Medium(Fact):\n",
        "    \"\"\"Represents the medium selected based on rules.\"\"\"\n",
        "    pass\n",
        "\n",
        "class MediaAdvisor(KnowledgeEngine):\n",
        "    def __init__(self):\n",
        "        super().__init__()\n",
        "        print(\"Initializing the Media Advisor Expert System...\\n\")\n",
        "# Rule 1\n",
        "    @Rule(Environment(environment='papers') |\n",
        "          Environment(environment='manuals') |\n",
        "          Environment(environment='documents') |\n",
        "          Environment(environment='textbooks'))\n",
        "    def verbal(self):\n",
        "        print(\"Rule triggered: Environment is 'verbal'.\")\n",
        "        self.declare(Fact(stimulus_situation='verbal'))\n",
        "\n",
        "# Rule 2\n",
        "    @Rule(Environment(environment='pictures') |\n",
        "          Environment(environment='illustrations') |\n",
        "          Environment(environment='photographs') |\n",
        "          Environment(environment='diagrams'))\n",
        "    def visual(self):\n",
        "        print(\"Rule triggered: Environment is 'visual'.\")\n",
        "        self.declare(Fact(stimulus_situation='visual'))\n",
        "# Rule 3\n",
        "    @Rule(Environment(environment='machines') |\n",
        "          Environment(environment='buildings') |\n",
        "          Environment(environment='tools'))\n",
        "    def physical_object(self):\n",
        "        print(\"Rule triggered: Environment is a 'physical object'.\")\n",
        "        self.declare(Fact(stimulus_situation='physical object'))\n",
        "# Rule 4\n",
        "    @Rule(Environment(environment='numbers') |\n",
        "          Environment(environment='formulas') |\n",
        "          Environment(environment='computer programs'))\n",
        "    def symbolic(self):\n",
        "        print(\"Rule triggered: Environment is 'symbolic'.\")\n",
        "        self.declare(Fact(stimulus_situation='symbolic'))\n",
        "# Rule 5\n",
        "    @Rule(Job(job='lecturing') |\n",
        "          Job(job='advising') |\n",
        "          Job(job='counselling'))\n",
        "    def oral_response(self):\n",
        "        print(\"Rule triggered: Job requires 'oral' response.\")\n",
        "        self.declare(Fact(stimulus_response='oral'))\n",
        "# Rule 6\n",
        "    @Rule(Job(job='building') |\n",
        "          Job(job='repairing') |\n",
        "          Job(job='troubleshooting'))\n",
        "    def hands_on(self):\n",
        "        print(\"Rule triggered: Job requires 'hands-on' response.\")\n",
        "        self.declare(Fact(stimulus_response='hands-on'))\n",
        "# Rule 7\n",
        "    @Rule(Job(job='writing') |\n",
        "          Job(job='typing') |\n",
        "          Job(job='drawing'))\n",
        "    def documented_response(self):\n",
        "        print(\"Rule triggered: Job requires 'documented' response.\")\n",
        "        self.declare(Fact(stimulus_response='documented'))\n",
        "# Rule 8\n",
        "    @Rule(Job(job='evaluating') |\n",
        "          Job(job='reasoning') |\n",
        "          Job(job='investigating'))\n",
        "    def analytical_response(self):\n",
        "        print(\"Rule triggered: Job requires 'analytical' response.\")\n",
        "        self.declare(Fact(stimulus_response='analytical'))\n",
        "# Rule 9\n",
        "    @Rule(Fact(stimulus_situation='physical object'),\n",
        "          Fact(stimulus_response='hands-on'),\n",
        "          Feedback(feedback='required'))\n",
        "    def workshop(self):\n",
        "        print(\"Final Rule triggered: Selecting medium 'Workshop'.\")\n",
        "        self.declare(Medium(medium='workshop'))\n",
        "        print(\"Recommended Medium: Workshop\\n\")\n",
        "# Rule 10\n",
        "    @Rule(Fact(stimulus_situation='symbolic'),\n",
        "          Fact(stimulus_response='analytical'),\n",
        "          Feedback(feedback='required'))\n",
        "    def lecture_tutorial_symbolic(self):\n",
        "        print(\"Final Rule triggered: Selecting medium 'Lecture - Tutorial' for symbolic environment.\")\n",
        "        self.declare(Medium(medium='lecture - tutorial'))\n",
        "        print(\"Recommended Medium: Lecture - Tutorial\\n\")\n",
        "# Rule 11\n",
        "    @Rule(Fact(stimulus_situation='visual'),\n",
        "          Fact(stimulus_response='documented'),\n",
        "          Feedback(feedback='not required'))\n",
        "    def videocassette(self):\n",
        "        print(\"Final Rule triggered: Selecting medium 'Videocassette'.\")\n",
        "        self.declare(Medium(medium='videocassette'))\n",
        "        print(\"Recommended Medium: Videocassette\\n\")\n",
        "# Rule 12\n",
        "    @Rule(Fact(stimulus_situation='verbal'),\n",
        "          Fact(stimulus_response='analytical'),\n",
        "          Feedback(feedback='required'))\n",
        "    def lecture_tutorial_verbal(self):\n",
        "        print(\"Final Rule triggered: Selecting medium 'Lecture - Tutorial' for verbal environment.\")\n",
        "        self.declare(Medium(medium='lecture - tutorial'))\n",
        "        print(\"Recommended Medium: Lecture - Tutorial\\n\")\n",
        "\n",
        "advisor = MediaAdvisor()"
      ]
    },
    {
      "cell_type": "code",
      "execution_count": null,
      "metadata": {
        "id": "osmzUAiG_4zq"
      },
      "outputs": [],
      "source": [
        "# Test Case 1: Workshop (Physical object, Hands-on, Feedback required)\n",
        "print(\"Test Case 1:\")\n",
        "advisor.reset()\n",
        "advisor.declare(Environment(environment='machines'))\n",
        "advisor.declare(Job(job='repairing'))\n",
        "advisor.declare(Feedback(feedback='required'))\n",
        "advisor.run()"
      ]
    },
    {
      "cell_type": "code",
      "execution_count": null,
      "metadata": {
        "id": "cKQK7UUY_6jR"
      },
      "outputs": [],
      "source": [
        "# Test Case 2: Videocassette (Visual, Documented, No Feedback)\n",
        "print(\"Test Case 2:\")\n",
        "advisor.reset()\n",
        "advisor.declare(Environment(environment='pictures'))\n",
        "advisor.declare(Job(job='writing'))\n",
        "advisor.declare(Feedback(feedback='not required'))\n",
        "advisor.run()"
      ]
    },
    {
      "cell_type": "code",
      "execution_count": 15,
      "metadata": {
        "colab": {
          "base_uri": "https://localhost:8080/"
        },
        "id": "2QwpMhDo_8qS",
        "outputId": "5afbb620-44ee-44b0-e317-1b67b066b50d"
      },
      "outputs": [
        {
          "metadata": {
            "tags": null
          },
          "name": "stdout",
          "output_type": "stream",
          "text": [
            "Test Case 3:\n",
            "Rule triggered: Job requires 'analytical' response.\n",
            "Rule triggered: Environment is 'symbolic'.\n",
            "Final Rule triggered: Selecting medium 'Lecture - Tutorial' for symbolic environment.\n",
            "Recommended Medium: Lecture - Tutorial\n",
            "\n"
          ]
        }
      ],
      "source": [
        "# Test Case 3: Lecture-Tutorial for Symbolic Environment (Symbolic, Analytical, Feedback required)\n",
        "print(\"Test Case 3:\")\n",
        "advisor.reset()\n",
        "advisor.declare(Environment(environment='formulas'))\n",
        "advisor.declare(Job(job='reasoning'))\n",
        "advisor.declare(Feedback(feedback='required'))\n",
        "advisor.run()"
      ]
    },
    {
      "cell_type": "code",
      "execution_count": 16,
      "metadata": {
        "colab": {
          "base_uri": "https://localhost:8080/"
        },
        "id": "AKiQdaHI_974",
        "outputId": "6633b3cb-933a-442e-f323-67d2cc2e25fe"
      },
      "outputs": [
        {
          "metadata": {
            "tags": null
          },
          "name": "stdout",
          "output_type": "stream",
          "text": [
            "Test Case 4:\n",
            "Rule triggered: Job requires 'analytical' response.\n",
            "Rule triggered: Environment is 'verbal'.\n",
            "Final Rule triggered: Selecting medium 'Lecture - Tutorial' for verbal environment.\n",
            "Recommended Medium: Lecture - Tutorial\n",
            "\n"
          ]
        }
      ],
      "source": [
        "# Test Case 4: Lecture-Tutorial for Verbal Environment (Verbal, Analytical, Feedback required)\n",
        "print(\"Test Case 4:\")\n",
        "advisor.reset()\n",
        "advisor.declare(Environment(environment='manuals'))\n",
        "advisor.declare(Job(job='investigating'))\n",
        "advisor.declare(Feedback(feedback='required'))\n",
        "advisor.run()"
      ]
    },
    {
      "cell_type": "code",
      "execution_count": 17,
      "metadata": {
        "colab": {
          "base_uri": "https://localhost:8080/"
        },
        "id": "WAbqiu7F__Gm",
        "outputId": "1427f7fa-ef30-451f-c99c-ee74f89d2790"
      },
      "outputs": [
        {
          "metadata": {
            "tags": null
          },
          "name": "stdout",
          "output_type": "stream",
          "text": [
            "Test Case 5:\n",
            "Rule triggered: Job requires 'oral' response.\n",
            "Rule triggered: Environment is 'visual'.\n"
          ]
        }
      ],
      "source": [
        "# Test Case 5: No Matching Rule (Visual, Oral, Feedback required)\n",
        "print(\"Test Case 5:\")\n",
        "advisor.reset()\n",
        "advisor.declare(Environment(environment='diagrams'))\n",
        "advisor.declare(Job(job='advising'))\n",
        "advisor.declare(Feedback(feedback='required'))\n",
        "advisor.run()"
      ]
    },
    {
      "cell_type": "code",
      "execution_count": 18,
      "metadata": {
        "colab": {
          "base_uri": "https://localhost:8080/"
        },
        "id": "r87tmjmCAAEe",
        "outputId": "50f9238f-e9e8-4e20-e485-97b8ea593c83"
      },
      "outputs": [
        {
          "metadata": {
            "tags": null
          },
          "name": "stdout",
          "output_type": "stream",
          "text": [
            "Test Case 6:\n",
            "Rule triggered: Job requires 'analytical' response.\n",
            "Rule triggered: Environment is 'symbolic'.\n"
          ]
        }
      ],
      "source": [
        "# Test Case 6: No Feedback Scenario (Symbolic, Analytical, No Feedback)\n",
        "print(\"Test Case 6:\")\n",
        "advisor.reset()\n",
        "advisor.declare(Environment(environment='computer programs'))\n",
        "advisor.declare(Job(job='evaluating'))\n",
        "advisor.declare(Feedback(feedback='not required'))\n",
        "advisor.run()"
      ]
    }
  ],
  "metadata": {
    "colab": {
      "provenance": []
    },
    "kernelspec": {
      "display_name": "Python 3",
      "name": "python3"
    },
    "language_info": {
      "name": "python"
    }
  },
  "nbformat": 4,
  "nbformat_minor": 0
}